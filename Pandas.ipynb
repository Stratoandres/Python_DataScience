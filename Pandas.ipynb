{
 "cells": [
  {
   "cell_type": "markdown",
   "id": "6a26ee4e-ae59-423c-a240-0c0bcb13b837",
   "metadata": {},
   "source": [
    "## Pandas"
   ]
  },
  {
   "cell_type": "markdown",
   "id": "b7bb6d15-48a1-4d7b-bc44-d615418dd8ec",
   "metadata": {},
   "source": [
    "__Ejercicio 1:__"
   ]
  },
  {
   "cell_type": "markdown",
   "id": "97ba8096-5aa6-4ec4-a8ca-71594bc9af83",
   "metadata": {},
   "source": [
    "importar pandas"
   ]
  },
  {
   "cell_type": "code",
   "execution_count": 1,
   "id": "ea484b19-46f6-4b4d-85ec-b4be215dfdc4",
   "metadata": {},
   "outputs": [],
   "source": [
    "import pandas as pd"
   ]
  },
  {
   "cell_type": "markdown",
   "id": "3bbb2413-606a-4fa1-a3f0-2ee3dbc9aa80",
   "metadata": {},
   "source": [
    "__Ejercicio 2:__"
   ]
  },
  {
   "cell_type": "code",
   "execution_count": 2,
   "id": "11a3486f-da01-459d-9389-1efa2515e225",
   "metadata": {},
   "outputs": [],
   "source": [
    "altura_cm = [178,166,155,181,176,189,190,156]"
   ]
  },
  {
   "cell_type": "code",
   "execution_count": 3,
   "id": "25bbb2a3-0a96-42e0-bf2d-6656956f35ed",
   "metadata": {},
   "outputs": [],
   "source": [
    "altura_cm = [178,166,155,181,176,189,190,156]"
   ]
  },
  {
   "cell_type": "markdown",
   "id": "636f07b6-164c-4904-a5d8-2c0a9300af8c",
   "metadata": {},
   "source": [
    "Crear una serie llama \"altura\" en base a la lista anterior utilizando pd.Series()"
   ]
  },
  {
   "cell_type": "code",
   "execution_count": 4,
   "id": "9235db51-80a3-4fed-928c-dfeb6990c189",
   "metadata": {},
   "outputs": [],
   "source": [
    "altura = pd.Series(altura_cm)"
   ]
  },
  {
   "cell_type": "code",
   "execution_count": 5,
   "id": "12503378-c6c8-40c6-9923-26d93f9f49e6",
   "metadata": {},
   "outputs": [
    {
     "data": {
      "text/plain": [
       "0    178\n",
       "1    166\n",
       "2    155\n",
       "3    181\n",
       "4    176\n",
       "5    189\n",
       "6    190\n",
       "7    156\n",
       "dtype: int64"
      ]
     },
     "execution_count": 5,
     "metadata": {},
     "output_type": "execute_result"
    }
   ],
   "source": [
    "altura"
   ]
  },
  {
   "cell_type": "markdown",
   "id": "54eaf73d-e505-45de-8ea5-72e7645136f5",
   "metadata": {},
   "source": [
    "__Ejercicio 3:__"
   ]
  },
  {
   "cell_type": "markdown",
   "id": "c9adfc6a-0974-40f8-b198-be446d39765f",
   "metadata": {},
   "source": [
    "inspeccionar los primeros 5 elementos con .head()"
   ]
  },
  {
   "cell_type": "code",
   "execution_count": 6,
   "id": "39c091d4-58f4-4e99-870c-9d7fe387f1eb",
   "metadata": {},
   "outputs": [
    {
     "data": {
      "text/plain": [
       "0    178\n",
       "1    166\n",
       "2    155\n",
       "3    181\n",
       "4    176\n",
       "dtype: int64"
      ]
     },
     "execution_count": 6,
     "metadata": {},
     "output_type": "execute_result"
    }
   ],
   "source": [
    "altura.head()"
   ]
  },
  {
   "cell_type": "markdown",
   "id": "dc785543-347c-4b8e-9b35-0e231f28e0ee",
   "metadata": {},
   "source": [
    "inspeccionar los primeros 3 elementos con .head()"
   ]
  },
  {
   "cell_type": "code",
   "execution_count": 7,
   "id": "b6a5014f-f4ba-46ed-b389-bd1dd5646907",
   "metadata": {},
   "outputs": [
    {
     "data": {
      "text/plain": [
       "0    178\n",
       "1    166\n",
       "2    155\n",
       "dtype: int64"
      ]
     },
     "execution_count": 7,
     "metadata": {},
     "output_type": "execute_result"
    }
   ],
   "source": [
    "altura.head(3)"
   ]
  },
  {
   "cell_type": "markdown",
   "id": "45f183f3-9cd7-48c6-9542-1056605086d6",
   "metadata": {},
   "source": [
    "__Ejercicio 4:__"
   ]
  },
  {
   "cell_type": "markdown",
   "id": "b57d1722-edd4-4134-b050-6e9d9c7c70de",
   "metadata": {},
   "source": [
    "Ordenar los valores de la serie \"altura\""
   ]
  },
  {
   "cell_type": "code",
   "execution_count": 8,
   "id": "74259f9e-320f-4180-b06a-8151086b60c4",
   "metadata": {},
   "outputs": [
    {
     "data": {
      "text/plain": [
       "2    155\n",
       "7    156\n",
       "1    166\n",
       "4    176\n",
       "0    178\n",
       "3    181\n",
       "5    189\n",
       "6    190\n",
       "dtype: int64"
      ]
     },
     "execution_count": 8,
     "metadata": {},
     "output_type": "execute_result"
    }
   ],
   "source": [
    "altura.sort_values()"
   ]
  },
  {
   "cell_type": "code",
   "execution_count": null,
   "id": "567a0df4-bbc8-41c1-a569-ea2e1767571e",
   "metadata": {},
   "outputs": [],
   "source": [
    "altura"
   ]
  },
  {
   "cell_type": "markdown",
   "id": "556b2044-efd8-4a7a-a6af-35f96ff2a493",
   "metadata": {},
   "source": [
    "__Ejercicio 5:__"
   ]
  },
  {
   "cell_type": "markdown",
   "id": "4e3c4d6a-fdcc-4b9d-afc9-53198513d16d",
   "metadata": {},
   "source": [
    "Obtener el valor minimo de la serie \"altura\""
   ]
  },
  {
   "cell_type": "code",
   "execution_count": 9,
   "id": "3a0a8898-8679-4b2e-8099-595d16413699",
   "metadata": {},
   "outputs": [
    {
     "data": {
      "text/plain": [
       "155"
      ]
     },
     "execution_count": 9,
     "metadata": {},
     "output_type": "execute_result"
    }
   ],
   "source": [
    "altura.min()"
   ]
  },
  {
   "cell_type": "markdown",
   "id": "ca064a1a-ad51-4fa5-b523-e47241718c69",
   "metadata": {},
   "source": [
    "Obtener el valor maximo de la series \"altura\""
   ]
  },
  {
   "cell_type": "code",
   "execution_count": 10,
   "id": "eb775750-4add-4892-8e78-54462e783e7f",
   "metadata": {},
   "outputs": [
    {
     "data": {
      "text/plain": [
       "190"
      ]
     },
     "execution_count": 10,
     "metadata": {},
     "output_type": "execute_result"
    }
   ],
   "source": [
    "altura.max()"
   ]
  },
  {
   "cell_type": "markdown",
   "id": "4402192e-66a9-4478-9090-0b75966f4da2",
   "metadata": {},
   "source": [
    "Obtener el valor promedio de la serie \"altura\""
   ]
  },
  {
   "cell_type": "code",
   "execution_count": 11,
   "id": "30d96c5c-8589-4c39-9d42-59d0dccbd70f",
   "metadata": {},
   "outputs": [
    {
     "data": {
      "text/plain": [
       "173.875"
      ]
     },
     "execution_count": 11,
     "metadata": {},
     "output_type": "execute_result"
    }
   ],
   "source": [
    "altura.mean()"
   ]
  },
  {
   "cell_type": "code",
   "execution_count": 12,
   "id": "5ef34276-4c9d-4a99-bef0-ae978e8d267c",
   "metadata": {},
   "outputs": [
    {
     "data": {
      "text/plain": [
       "1391"
      ]
     },
     "execution_count": 12,
     "metadata": {},
     "output_type": "execute_result"
    }
   ],
   "source": [
    "altura.sum()"
   ]
  },
  {
   "cell_type": "code",
   "execution_count": 13,
   "id": "5c28a033-ad07-460f-a15e-5e86edeaac8d",
   "metadata": {},
   "outputs": [
    {
     "data": {
      "text/plain": [
       "0    178\n",
       "1    166\n",
       "2    155\n",
       "3    181\n",
       "4    176\n",
       "5    189\n",
       "6    190\n",
       "7    156\n",
       "dtype: int64"
      ]
     },
     "execution_count": 13,
     "metadata": {},
     "output_type": "execute_result"
    }
   ],
   "source": [
    "altura"
   ]
  },
  {
   "cell_type": "markdown",
   "id": "2e3cc51a-186b-4cda-8fa9-975548021be7",
   "metadata": {},
   "source": [
    "__Ejercicio 6:__"
   ]
  },
  {
   "cell_type": "markdown",
   "id": "b82d7142-eebf-46ba-82f3-e257ffedb93b",
   "metadata": {},
   "source": [
    "Obtener una descripción general de los valores de la serie 2altura\""
   ]
  },
  {
   "cell_type": "code",
   "execution_count": 14,
   "id": "62eba3a6-729d-4259-8117-c5eb48a70c9f",
   "metadata": {},
   "outputs": [
    {
     "data": {
      "text/plain": [
       "count      8.000000\n",
       "mean     173.875000\n",
       "std       13.621805\n",
       "min      155.000000\n",
       "25%      163.500000\n",
       "50%      177.000000\n",
       "75%      183.000000\n",
       "max      190.000000\n",
       "dtype: float64"
      ]
     },
     "execution_count": 14,
     "metadata": {},
     "output_type": "execute_result"
    }
   ],
   "source": [
    "altura.describe()"
   ]
  },
  {
   "cell_type": "code",
   "execution_count": 15,
   "id": "e728c2b8-e96d-46d5-88b4-aaa7435f3fdf",
   "metadata": {},
   "outputs": [
    {
     "data": {
      "text/plain": [
       "8"
      ]
     },
     "execution_count": 15,
     "metadata": {},
     "output_type": "execute_result"
    }
   ],
   "source": [
    "altura.count()"
   ]
  },
  {
   "cell_type": "markdown",
   "id": "73b49b27-2470-45e5-af6c-7688f771f283",
   "metadata": {},
   "source": [
    "__Ejercicio 7:__"
   ]
  },
  {
   "cell_type": "markdown",
   "id": "ccec4788-f66a-43dd-af72-504108adad11",
   "metadata": {},
   "source": [
    "Obtener las alturas que superen los 170 cm en la seerie \"altura\""
   ]
  },
  {
   "cell_type": "code",
   "execution_count": 16,
   "id": "e5a75c45-5935-4a3b-800b-9c97a6a47572",
   "metadata": {},
   "outputs": [
    {
     "data": {
      "text/plain": [
       "0     True\n",
       "1    False\n",
       "2    False\n",
       "3     True\n",
       "4     True\n",
       "5     True\n",
       "6     True\n",
       "7    False\n",
       "dtype: bool"
      ]
     },
     "execution_count": 16,
     "metadata": {},
     "output_type": "execute_result"
    }
   ],
   "source": [
    "altura>170"
   ]
  },
  {
   "cell_type": "code",
   "execution_count": 18,
   "id": "16eb8d68-cbb4-4f7a-8961-fca6d202ae51",
   "metadata": {},
   "outputs": [
    {
     "data": {
      "text/plain": [
       "0    178\n",
       "3    181\n",
       "4    176\n",
       "5    189\n",
       "6    190\n",
       "dtype: int64"
      ]
     },
     "execution_count": 18,
     "metadata": {},
     "output_type": "execute_result"
    }
   ],
   "source": [
    "altura[altura>170]  # El fisltor se genera con los corchetes []"
   ]
  },
  {
   "cell_type": "markdown",
   "id": "a4dc7b80-cbb7-4608-b328-9bb7b358f318",
   "metadata": {},
   "source": [
    "__Ejercicio 8:__"
   ]
  },
  {
   "cell_type": "code",
   "execution_count": 63,
   "id": "159fcfd2-fca0-485b-958c-89235041093d",
   "metadata": {},
   "outputs": [],
   "source": [
    "datos={\"Nombre\":[\"Erika\",\"Elías\", \"Miguel\", \"Karla\", \"Gabriela\"],\n",
    "      \"Edad\":[23,24,21,25,22],\n",
    "      \"Altura\":[173,194,165,154,176],\n",
    "      \"Peso\":[83.2,65.4,71.1,67.9,71.8]}"
   ]
  },
  {
   "cell_type": "markdown",
   "id": "c823238e-eef9-41f4-be41-0a49a226bb7b",
   "metadata": {},
   "source": [
    "Crear un DataFrame llama \"amigos utilizando el diccionario anterior"
   ]
  },
  {
   "cell_type": "code",
   "execution_count": 64,
   "id": "4b124f8a-30a2-4a3a-9db7-ee498b527706",
   "metadata": {},
   "outputs": [],
   "source": [
    "amigos = pd.DataFrame(datos)"
   ]
  },
  {
   "cell_type": "code",
   "execution_count": 65,
   "id": "0c8a1f99-5620-463a-bfb6-abda194b81ec",
   "metadata": {},
   "outputs": [
    {
     "data": {
      "text/html": [
       "<div>\n",
       "<style scoped>\n",
       "    .dataframe tbody tr th:only-of-type {\n",
       "        vertical-align: middle;\n",
       "    }\n",
       "\n",
       "    .dataframe tbody tr th {\n",
       "        vertical-align: top;\n",
       "    }\n",
       "\n",
       "    .dataframe thead th {\n",
       "        text-align: right;\n",
       "    }\n",
       "</style>\n",
       "<table border=\"1\" class=\"dataframe\">\n",
       "  <thead>\n",
       "    <tr style=\"text-align: right;\">\n",
       "      <th></th>\n",
       "      <th>Nombre</th>\n",
       "      <th>Edad</th>\n",
       "      <th>Altura</th>\n",
       "      <th>Peso</th>\n",
       "    </tr>\n",
       "  </thead>\n",
       "  <tbody>\n",
       "    <tr>\n",
       "      <th>0</th>\n",
       "      <td>Erika</td>\n",
       "      <td>23</td>\n",
       "      <td>173</td>\n",
       "      <td>83.2</td>\n",
       "    </tr>\n",
       "    <tr>\n",
       "      <th>1</th>\n",
       "      <td>Elías</td>\n",
       "      <td>24</td>\n",
       "      <td>194</td>\n",
       "      <td>65.4</td>\n",
       "    </tr>\n",
       "    <tr>\n",
       "      <th>2</th>\n",
       "      <td>Miguel</td>\n",
       "      <td>21</td>\n",
       "      <td>165</td>\n",
       "      <td>71.1</td>\n",
       "    </tr>\n",
       "    <tr>\n",
       "      <th>3</th>\n",
       "      <td>Karla</td>\n",
       "      <td>25</td>\n",
       "      <td>154</td>\n",
       "      <td>67.9</td>\n",
       "    </tr>\n",
       "    <tr>\n",
       "      <th>4</th>\n",
       "      <td>Gabriela</td>\n",
       "      <td>22</td>\n",
       "      <td>176</td>\n",
       "      <td>71.8</td>\n",
       "    </tr>\n",
       "  </tbody>\n",
       "</table>\n",
       "</div>"
      ],
      "text/plain": [
       "     Nombre  Edad  Altura  Peso\n",
       "0     Erika    23     173  83.2\n",
       "1     Elías    24     194  65.4\n",
       "2    Miguel    21     165  71.1\n",
       "3     Karla    25     154  67.9\n",
       "4  Gabriela    22     176  71.8"
      ]
     },
     "execution_count": 65,
     "metadata": {},
     "output_type": "execute_result"
    }
   ],
   "source": [
    "amigos"
   ]
  },
  {
   "cell_type": "markdown",
   "id": "8451081d-b961-4432-ad8e-9ca7a17e4373",
   "metadata": {},
   "source": [
    "__Ejercicio 9:__"
   ]
  },
  {
   "cell_type": "markdown",
   "id": "88d43e39-d6f2-4e4f-a02c-78907364733d",
   "metadata": {},
   "source": [
    "Obtener una descripción general de los datos numéricos en el DataFrame"
   ]
  },
  {
   "cell_type": "code",
   "execution_count": 66,
   "id": "9f8a5b1e-168c-472f-83be-7e1c9a03bcbc",
   "metadata": {},
   "outputs": [
    {
     "data": {
      "text/html": [
       "<div>\n",
       "<style scoped>\n",
       "    .dataframe tbody tr th:only-of-type {\n",
       "        vertical-align: middle;\n",
       "    }\n",
       "\n",
       "    .dataframe tbody tr th {\n",
       "        vertical-align: top;\n",
       "    }\n",
       "\n",
       "    .dataframe thead th {\n",
       "        text-align: right;\n",
       "    }\n",
       "</style>\n",
       "<table border=\"1\" class=\"dataframe\">\n",
       "  <thead>\n",
       "    <tr style=\"text-align: right;\">\n",
       "      <th></th>\n",
       "      <th>Edad</th>\n",
       "      <th>Altura</th>\n",
       "      <th>Peso</th>\n",
       "    </tr>\n",
       "  </thead>\n",
       "  <tbody>\n",
       "    <tr>\n",
       "      <th>count</th>\n",
       "      <td>5.000000</td>\n",
       "      <td>5.000000</td>\n",
       "      <td>5.000000</td>\n",
       "    </tr>\n",
       "    <tr>\n",
       "      <th>mean</th>\n",
       "      <td>23.000000</td>\n",
       "      <td>172.400000</td>\n",
       "      <td>71.880000</td>\n",
       "    </tr>\n",
       "    <tr>\n",
       "      <th>std</th>\n",
       "      <td>1.581139</td>\n",
       "      <td>14.774979</td>\n",
       "      <td>6.829861</td>\n",
       "    </tr>\n",
       "    <tr>\n",
       "      <th>min</th>\n",
       "      <td>21.000000</td>\n",
       "      <td>154.000000</td>\n",
       "      <td>65.400000</td>\n",
       "    </tr>\n",
       "    <tr>\n",
       "      <th>25%</th>\n",
       "      <td>22.000000</td>\n",
       "      <td>165.000000</td>\n",
       "      <td>67.900000</td>\n",
       "    </tr>\n",
       "    <tr>\n",
       "      <th>50%</th>\n",
       "      <td>23.000000</td>\n",
       "      <td>173.000000</td>\n",
       "      <td>71.100000</td>\n",
       "    </tr>\n",
       "    <tr>\n",
       "      <th>75%</th>\n",
       "      <td>24.000000</td>\n",
       "      <td>176.000000</td>\n",
       "      <td>71.800000</td>\n",
       "    </tr>\n",
       "    <tr>\n",
       "      <th>max</th>\n",
       "      <td>25.000000</td>\n",
       "      <td>194.000000</td>\n",
       "      <td>83.200000</td>\n",
       "    </tr>\n",
       "  </tbody>\n",
       "</table>\n",
       "</div>"
      ],
      "text/plain": [
       "            Edad      Altura       Peso\n",
       "count   5.000000    5.000000   5.000000\n",
       "mean   23.000000  172.400000  71.880000\n",
       "std     1.581139   14.774979   6.829861\n",
       "min    21.000000  154.000000  65.400000\n",
       "25%    22.000000  165.000000  67.900000\n",
       "50%    23.000000  173.000000  71.100000\n",
       "75%    24.000000  176.000000  71.800000\n",
       "max    25.000000  194.000000  83.200000"
      ]
     },
     "execution_count": 66,
     "metadata": {},
     "output_type": "execute_result"
    }
   ],
   "source": [
    "amigos.describe()"
   ]
  },
  {
   "cell_type": "markdown",
   "id": "5bfe9de0-c22c-486d-8fcf-959489850055",
   "metadata": {},
   "source": [
    "__Ejercicio 10:__"
   ]
  },
  {
   "cell_type": "markdown",
   "id": "69f5fdf0-cf0c-4875-bb75-43d36c1ea7e2",
   "metadata": {},
   "source": [
    "Obtener los datos de los amigos con una edad menor a 23 años."
   ]
  },
  {
   "cell_type": "code",
   "execution_count": 67,
   "id": "41a47734-ff85-46d9-a3b7-ae8ea40f15c8",
   "metadata": {},
   "outputs": [
    {
     "data": {
      "text/plain": [
       "0    23\n",
       "1    24\n",
       "2    21\n",
       "3    25\n",
       "4    22\n",
       "Name: Edad, dtype: int64"
      ]
     },
     "execution_count": 67,
     "metadata": {},
     "output_type": "execute_result"
    }
   ],
   "source": [
    "# amigos.Edad\n",
    "amigos.Edad"
   ]
  },
  {
   "cell_type": "code",
   "execution_count": 68,
   "id": "48576be0-f4b0-4876-8baa-1c243e78d3ac",
   "metadata": {},
   "outputs": [
    {
     "data": {
      "text/plain": [
       "0    False\n",
       "1    False\n",
       "2     True\n",
       "3    False\n",
       "4     True\n",
       "Name: Edad, dtype: bool"
      ]
     },
     "execution_count": 68,
     "metadata": {},
     "output_type": "execute_result"
    }
   ],
   "source": [
    "# amigos.Edad<23\n",
    "amigos.Edad<23"
   ]
  },
  {
   "cell_type": "code",
   "execution_count": 69,
   "id": "7b100008-6dac-4d7c-b983-f3e9822d8605",
   "metadata": {},
   "outputs": [
    {
     "data": {
      "text/html": [
       "<div>\n",
       "<style scoped>\n",
       "    .dataframe tbody tr th:only-of-type {\n",
       "        vertical-align: middle;\n",
       "    }\n",
       "\n",
       "    .dataframe tbody tr th {\n",
       "        vertical-align: top;\n",
       "    }\n",
       "\n",
       "    .dataframe thead th {\n",
       "        text-align: right;\n",
       "    }\n",
       "</style>\n",
       "<table border=\"1\" class=\"dataframe\">\n",
       "  <thead>\n",
       "    <tr style=\"text-align: right;\">\n",
       "      <th></th>\n",
       "      <th>Nombre</th>\n",
       "      <th>Edad</th>\n",
       "      <th>Altura</th>\n",
       "      <th>Peso</th>\n",
       "    </tr>\n",
       "  </thead>\n",
       "  <tbody>\n",
       "    <tr>\n",
       "      <th>2</th>\n",
       "      <td>Miguel</td>\n",
       "      <td>21</td>\n",
       "      <td>165</td>\n",
       "      <td>71.1</td>\n",
       "    </tr>\n",
       "    <tr>\n",
       "      <th>4</th>\n",
       "      <td>Gabriela</td>\n",
       "      <td>22</td>\n",
       "      <td>176</td>\n",
       "      <td>71.8</td>\n",
       "    </tr>\n",
       "  </tbody>\n",
       "</table>\n",
       "</div>"
      ],
      "text/plain": [
       "     Nombre  Edad  Altura  Peso\n",
       "2    Miguel    21     165  71.1\n",
       "4  Gabriela    22     176  71.8"
      ]
     },
     "execution_count": 69,
     "metadata": {},
     "output_type": "execute_result"
    }
   ],
   "source": [
    "amigos[amigos.Edad<23]"
   ]
  },
  {
   "cell_type": "code",
   "execution_count": 70,
   "id": "52477187-4058-44d2-8749-f91184fa66e7",
   "metadata": {},
   "outputs": [
    {
     "data": {
      "text/html": [
       "<div>\n",
       "<style scoped>\n",
       "    .dataframe tbody tr th:only-of-type {\n",
       "        vertical-align: middle;\n",
       "    }\n",
       "\n",
       "    .dataframe tbody tr th {\n",
       "        vertical-align: top;\n",
       "    }\n",
       "\n",
       "    .dataframe thead th {\n",
       "        text-align: right;\n",
       "    }\n",
       "</style>\n",
       "<table border=\"1\" class=\"dataframe\">\n",
       "  <thead>\n",
       "    <tr style=\"text-align: right;\">\n",
       "      <th></th>\n",
       "      <th>Nombre</th>\n",
       "      <th>Edad</th>\n",
       "      <th>Altura</th>\n",
       "      <th>Peso</th>\n",
       "    </tr>\n",
       "  </thead>\n",
       "  <tbody>\n",
       "    <tr>\n",
       "      <th>0</th>\n",
       "      <td>Erika</td>\n",
       "      <td>23</td>\n",
       "      <td>173</td>\n",
       "      <td>83.2</td>\n",
       "    </tr>\n",
       "    <tr>\n",
       "      <th>1</th>\n",
       "      <td>Elías</td>\n",
       "      <td>24</td>\n",
       "      <td>194</td>\n",
       "      <td>65.4</td>\n",
       "    </tr>\n",
       "    <tr>\n",
       "      <th>2</th>\n",
       "      <td>Miguel</td>\n",
       "      <td>21</td>\n",
       "      <td>165</td>\n",
       "      <td>71.1</td>\n",
       "    </tr>\n",
       "    <tr>\n",
       "      <th>3</th>\n",
       "      <td>Karla</td>\n",
       "      <td>25</td>\n",
       "      <td>154</td>\n",
       "      <td>67.9</td>\n",
       "    </tr>\n",
       "    <tr>\n",
       "      <th>4</th>\n",
       "      <td>Gabriela</td>\n",
       "      <td>22</td>\n",
       "      <td>176</td>\n",
       "      <td>71.8</td>\n",
       "    </tr>\n",
       "  </tbody>\n",
       "</table>\n",
       "</div>"
      ],
      "text/plain": [
       "     Nombre  Edad  Altura  Peso\n",
       "0     Erika    23     173  83.2\n",
       "1     Elías    24     194  65.4\n",
       "2    Miguel    21     165  71.1\n",
       "3     Karla    25     154  67.9\n",
       "4  Gabriela    22     176  71.8"
      ]
     },
     "execution_count": 70,
     "metadata": {},
     "output_type": "execute_result"
    }
   ],
   "source": [
    "amigos"
   ]
  },
  {
   "cell_type": "markdown",
   "id": "1a5d27f2-dd82-477a-9acb-d2a85b8be277",
   "metadata": {},
   "source": [
    "__Ejercicio 11:__"
   ]
  },
  {
   "cell_type": "markdown",
   "id": "256e84df-493a-4690-bb55-288bc5c0c5c6",
   "metadata": {},
   "source": [
    "Importar los datos en el archivo \"amigo.xlsx\" en un DataFrame llamado \"amigos\""
   ]
  },
  {
   "cell_type": "code",
   "execution_count": 71,
   "id": "2118d439-c262-4b91-bea5-b9ae2b20307d",
   "metadata": {},
   "outputs": [],
   "source": [
    "amigos = pd.read_excel(\"./amigos.xlsx\",index_col=\"Id\")"
   ]
  },
  {
   "cell_type": "code",
   "execution_count": 72,
   "id": "b211c37a-c712-49f5-ab4d-a920b7341bd3",
   "metadata": {},
   "outputs": [
    {
     "data": {
      "text/html": [
       "<div>\n",
       "<style scoped>\n",
       "    .dataframe tbody tr th:only-of-type {\n",
       "        vertical-align: middle;\n",
       "    }\n",
       "\n",
       "    .dataframe tbody tr th {\n",
       "        vertical-align: top;\n",
       "    }\n",
       "\n",
       "    .dataframe thead th {\n",
       "        text-align: right;\n",
       "    }\n",
       "</style>\n",
       "<table border=\"1\" class=\"dataframe\">\n",
       "  <thead>\n",
       "    <tr style=\"text-align: right;\">\n",
       "      <th></th>\n",
       "      <th>Nombre</th>\n",
       "      <th>Apellido Pat</th>\n",
       "      <th>Apellido Mat</th>\n",
       "      <th>Edad</th>\n",
       "      <th>Altura</th>\n",
       "      <th>Peso</th>\n",
       "    </tr>\n",
       "    <tr>\n",
       "      <th>Id</th>\n",
       "      <th></th>\n",
       "      <th></th>\n",
       "      <th></th>\n",
       "      <th></th>\n",
       "      <th></th>\n",
       "      <th></th>\n",
       "    </tr>\n",
       "  </thead>\n",
       "  <tbody>\n",
       "    <tr>\n",
       "      <th>1</th>\n",
       "      <td>Sergio</td>\n",
       "      <td>Negrete</td>\n",
       "      <td>Terán</td>\n",
       "      <td>18</td>\n",
       "      <td>163</td>\n",
       "      <td>90.9</td>\n",
       "    </tr>\n",
       "    <tr>\n",
       "      <th>2</th>\n",
       "      <td>Jean</td>\n",
       "      <td>Vidrio</td>\n",
       "      <td>Piñeda</td>\n",
       "      <td>23</td>\n",
       "      <td>166</td>\n",
       "      <td>61.3</td>\n",
       "    </tr>\n",
       "    <tr>\n",
       "      <th>3</th>\n",
       "      <td>María</td>\n",
       "      <td>Feria</td>\n",
       "      <td>Núñez</td>\n",
       "      <td>22</td>\n",
       "      <td>185</td>\n",
       "      <td>77.1</td>\n",
       "    </tr>\n",
       "    <tr>\n",
       "      <th>4</th>\n",
       "      <td>William</td>\n",
       "      <td>Valdovinos</td>\n",
       "      <td>López</td>\n",
       "      <td>22</td>\n",
       "      <td>155</td>\n",
       "      <td>84.6</td>\n",
       "    </tr>\n",
       "    <tr>\n",
       "      <th>5</th>\n",
       "      <td>Bastian</td>\n",
       "      <td>Richardson</td>\n",
       "      <td>De La Fuente</td>\n",
       "      <td>17</td>\n",
       "      <td>187</td>\n",
       "      <td>87.0</td>\n",
       "    </tr>\n",
       "  </tbody>\n",
       "</table>\n",
       "</div>"
      ],
      "text/plain": [
       "     Nombre Apellido Pat  Apellido Mat  Edad  Altura  Peso\n",
       "Id                                                        \n",
       "1    Sergio      Negrete         Terán    18     163  90.9\n",
       "2      Jean       Vidrio        Piñeda    23     166  61.3\n",
       "3     María        Feria         Núñez    22     185  77.1\n",
       "4   William   Valdovinos         López    22     155  84.6\n",
       "5   Bastian   Richardson  De La Fuente    17     187  87.0"
      ]
     },
     "execution_count": 72,
     "metadata": {},
     "output_type": "execute_result"
    }
   ],
   "source": [
    "amigos.head()"
   ]
  },
  {
   "cell_type": "code",
   "execution_count": 73,
   "id": "fb155094-d9e7-4209-b329-8f9ef39ae9b6",
   "metadata": {},
   "outputs": [
    {
     "data": {
      "text/plain": [
       "Nombre          100\n",
       "Apellido Pat    100\n",
       "Apellido Mat    100\n",
       "Edad            100\n",
       "Altura          100\n",
       "Peso            100\n",
       "dtype: int64"
      ]
     },
     "execution_count": 73,
     "metadata": {},
     "output_type": "execute_result"
    }
   ],
   "source": [
    "amigos.count()"
   ]
  },
  {
   "cell_type": "code",
   "execution_count": 74,
   "id": "c131b5c7-c4db-4a31-808a-6f66d26c3591",
   "metadata": {},
   "outputs": [
    {
     "data": {
      "text/html": [
       "<div>\n",
       "<style scoped>\n",
       "    .dataframe tbody tr th:only-of-type {\n",
       "        vertical-align: middle;\n",
       "    }\n",
       "\n",
       "    .dataframe tbody tr th {\n",
       "        vertical-align: top;\n",
       "    }\n",
       "\n",
       "    .dataframe thead th {\n",
       "        text-align: right;\n",
       "    }\n",
       "</style>\n",
       "<table border=\"1\" class=\"dataframe\">\n",
       "  <thead>\n",
       "    <tr style=\"text-align: right;\">\n",
       "      <th></th>\n",
       "      <th>Nombre</th>\n",
       "      <th>Apellido Pat</th>\n",
       "      <th>Apellido Mat</th>\n",
       "      <th>Edad</th>\n",
       "      <th>Altura</th>\n",
       "      <th>Peso</th>\n",
       "    </tr>\n",
       "    <tr>\n",
       "      <th>Id</th>\n",
       "      <th></th>\n",
       "      <th></th>\n",
       "      <th></th>\n",
       "      <th></th>\n",
       "      <th></th>\n",
       "      <th></th>\n",
       "    </tr>\n",
       "  </thead>\n",
       "  <tbody>\n",
       "    <tr>\n",
       "      <th>1</th>\n",
       "      <td>Sergio</td>\n",
       "      <td>Negrete</td>\n",
       "      <td>Terán</td>\n",
       "      <td>18</td>\n",
       "      <td>163</td>\n",
       "      <td>90.9</td>\n",
       "    </tr>\n",
       "    <tr>\n",
       "      <th>2</th>\n",
       "      <td>Jean</td>\n",
       "      <td>Vidrio</td>\n",
       "      <td>Piñeda</td>\n",
       "      <td>23</td>\n",
       "      <td>166</td>\n",
       "      <td>61.3</td>\n",
       "    </tr>\n",
       "    <tr>\n",
       "      <th>3</th>\n",
       "      <td>María</td>\n",
       "      <td>Feria</td>\n",
       "      <td>Núñez</td>\n",
       "      <td>22</td>\n",
       "      <td>185</td>\n",
       "      <td>77.1</td>\n",
       "    </tr>\n",
       "    <tr>\n",
       "      <th>4</th>\n",
       "      <td>William</td>\n",
       "      <td>Valdovinos</td>\n",
       "      <td>López</td>\n",
       "      <td>22</td>\n",
       "      <td>155</td>\n",
       "      <td>84.6</td>\n",
       "    </tr>\n",
       "    <tr>\n",
       "      <th>5</th>\n",
       "      <td>Bastian</td>\n",
       "      <td>Richardson</td>\n",
       "      <td>De La Fuente</td>\n",
       "      <td>17</td>\n",
       "      <td>187</td>\n",
       "      <td>87.0</td>\n",
       "    </tr>\n",
       "    <tr>\n",
       "      <th>...</th>\n",
       "      <td>...</td>\n",
       "      <td>...</td>\n",
       "      <td>...</td>\n",
       "      <td>...</td>\n",
       "      <td>...</td>\n",
       "      <td>...</td>\n",
       "    </tr>\n",
       "    <tr>\n",
       "      <th>96</th>\n",
       "      <td>Stephanie</td>\n",
       "      <td>Peña</td>\n",
       "      <td>Rubio</td>\n",
       "      <td>20</td>\n",
       "      <td>188</td>\n",
       "      <td>52.9</td>\n",
       "    </tr>\n",
       "    <tr>\n",
       "      <th>97</th>\n",
       "      <td>Marvin</td>\n",
       "      <td>Ramón</td>\n",
       "      <td>Ríos</td>\n",
       "      <td>24</td>\n",
       "      <td>167</td>\n",
       "      <td>98.3</td>\n",
       "    </tr>\n",
       "    <tr>\n",
       "      <th>98</th>\n",
       "      <td>Nicolás</td>\n",
       "      <td>Bravo</td>\n",
       "      <td>Pascual</td>\n",
       "      <td>19</td>\n",
       "      <td>171</td>\n",
       "      <td>76.7</td>\n",
       "    </tr>\n",
       "    <tr>\n",
       "      <th>99</th>\n",
       "      <td>Lily</td>\n",
       "      <td>Ávalos</td>\n",
       "      <td>Salín</td>\n",
       "      <td>19</td>\n",
       "      <td>168</td>\n",
       "      <td>58.6</td>\n",
       "    </tr>\n",
       "    <tr>\n",
       "      <th>100</th>\n",
       "      <td>Moises</td>\n",
       "      <td>Navarro</td>\n",
       "      <td>Briones</td>\n",
       "      <td>21</td>\n",
       "      <td>171</td>\n",
       "      <td>55.2</td>\n",
       "    </tr>\n",
       "  </tbody>\n",
       "</table>\n",
       "<p>100 rows × 6 columns</p>\n",
       "</div>"
      ],
      "text/plain": [
       "        Nombre Apellido Pat  Apellido Mat  Edad  Altura  Peso\n",
       "Id                                                           \n",
       "1       Sergio      Negrete         Terán    18     163  90.9\n",
       "2         Jean       Vidrio        Piñeda    23     166  61.3\n",
       "3        María        Feria         Núñez    22     185  77.1\n",
       "4      William   Valdovinos         López    22     155  84.6\n",
       "5      Bastian   Richardson  De La Fuente    17     187  87.0\n",
       "..         ...          ...           ...   ...     ...   ...\n",
       "96   Stephanie         Peña         Rubio    20     188  52.9\n",
       "97      Marvin        Ramón          Ríos    24     167  98.3\n",
       "98     Nicolás        Bravo       Pascual    19     171  76.7\n",
       "99        Lily       Ávalos         Salín    19     168  58.6\n",
       "100     Moises      Navarro       Briones    21     171  55.2\n",
       "\n",
       "[100 rows x 6 columns]"
      ]
     },
     "execution_count": 74,
     "metadata": {},
     "output_type": "execute_result"
    }
   ],
   "source": [
    "amigos"
   ]
  },
  {
   "cell_type": "markdown",
   "id": "1cd6e18c-4add-481a-b21f-274454cc8499",
   "metadata": {},
   "source": [
    "__Ejercicio 12:__"
   ]
  },
  {
   "cell_type": "markdown",
   "id": "79756c66-a40d-47d0-be13-7c3b51538ec1",
   "metadata": {},
   "source": [
    "Obtener los datos de los migos con una edad menor a 21 años"
   ]
  },
  {
   "cell_type": "code",
   "execution_count": 76,
   "id": "3a8003fe-1689-4e5f-9e70-8ce93c2c86bb",
   "metadata": {},
   "outputs": [],
   "source": [
    "amigosmenoresa21 = amigos[amigos.Edad<21]"
   ]
  },
  {
   "cell_type": "code",
   "execution_count": 78,
   "id": "45d5a12d-d4b8-4ff8-9007-0593e67c9ed7",
   "metadata": {},
   "outputs": [
    {
     "data": {
      "text/html": [
       "<div>\n",
       "<style scoped>\n",
       "    .dataframe tbody tr th:only-of-type {\n",
       "        vertical-align: middle;\n",
       "    }\n",
       "\n",
       "    .dataframe tbody tr th {\n",
       "        vertical-align: top;\n",
       "    }\n",
       "\n",
       "    .dataframe thead th {\n",
       "        text-align: right;\n",
       "    }\n",
       "</style>\n",
       "<table border=\"1\" class=\"dataframe\">\n",
       "  <thead>\n",
       "    <tr style=\"text-align: right;\">\n",
       "      <th></th>\n",
       "      <th>Nombre</th>\n",
       "      <th>Apellido Pat</th>\n",
       "      <th>Apellido Mat</th>\n",
       "      <th>Edad</th>\n",
       "      <th>Altura</th>\n",
       "      <th>Peso</th>\n",
       "    </tr>\n",
       "    <tr>\n",
       "      <th>Id</th>\n",
       "      <th></th>\n",
       "      <th></th>\n",
       "      <th></th>\n",
       "      <th></th>\n",
       "      <th></th>\n",
       "      <th></th>\n",
       "    </tr>\n",
       "  </thead>\n",
       "  <tbody>\n",
       "    <tr>\n",
       "      <th>1</th>\n",
       "      <td>Sergio</td>\n",
       "      <td>Negrete</td>\n",
       "      <td>Terán</td>\n",
       "      <td>18</td>\n",
       "      <td>163</td>\n",
       "      <td>90.9</td>\n",
       "    </tr>\n",
       "    <tr>\n",
       "      <th>5</th>\n",
       "      <td>Bastian</td>\n",
       "      <td>Richardson</td>\n",
       "      <td>De La Fuente</td>\n",
       "      <td>17</td>\n",
       "      <td>187</td>\n",
       "      <td>87.0</td>\n",
       "    </tr>\n",
       "    <tr>\n",
       "      <th>8</th>\n",
       "      <td>Jamir</td>\n",
       "      <td>Aguirre</td>\n",
       "      <td>Escobedo</td>\n",
       "      <td>17</td>\n",
       "      <td>169</td>\n",
       "      <td>77.5</td>\n",
       "    </tr>\n",
       "    <tr>\n",
       "      <th>12</th>\n",
       "      <td>Cristina</td>\n",
       "      <td>Montaño</td>\n",
       "      <td>Richardson</td>\n",
       "      <td>19</td>\n",
       "      <td>156</td>\n",
       "      <td>73.4</td>\n",
       "    </tr>\n",
       "    <tr>\n",
       "      <th>13</th>\n",
       "      <td>Rafael</td>\n",
       "      <td>Berlanga</td>\n",
       "      <td>Burgos</td>\n",
       "      <td>20</td>\n",
       "      <td>167</td>\n",
       "      <td>56.1</td>\n",
       "    </tr>\n",
       "  </tbody>\n",
       "</table>\n",
       "</div>"
      ],
      "text/plain": [
       "      Nombre Apellido Pat  Apellido Mat  Edad  Altura  Peso\n",
       "Id                                                         \n",
       "1     Sergio      Negrete         Terán    18     163  90.9\n",
       "5    Bastian   Richardson  De La Fuente    17     187  87.0\n",
       "8      Jamir      Aguirre      Escobedo    17     169  77.5\n",
       "12  Cristina      Montaño    Richardson    19     156  73.4\n",
       "13    Rafael     Berlanga        Burgos    20     167  56.1"
      ]
     },
     "execution_count": 78,
     "metadata": {},
     "output_type": "execute_result"
    }
   ],
   "source": [
    "amigosmenoresa21.head()"
   ]
  },
  {
   "cell_type": "code",
   "execution_count": null,
   "id": "c7cffec7-5b61-4633-bf2a-a3516e395fae",
   "metadata": {},
   "outputs": [],
   "source": []
  },
  {
   "cell_type": "markdown",
   "id": "125cbf50-3f04-4561-889b-5cbb1efbcc73",
   "metadata": {},
   "source": [
    "__Ejercicio 13:__"
   ]
  },
  {
   "cell_type": "markdown",
   "id": "af6e9c04-d452-4baa-b8ac-45c4aa416b63",
   "metadata": {},
   "source": [
    "Importar los datos en el archivo \"universidad.xlsx\" en un DataFrame llamado \"universidad\""
   ]
  },
  {
   "cell_type": "code",
   "execution_count": 79,
   "id": "a8c3cc3c-ae18-4d99-91ac-6a9af2483f5b",
   "metadata": {},
   "outputs": [],
   "source": [
    "universidad = pd.read_excel(\"./universidad.xlsx\")"
   ]
  },
  {
   "cell_type": "code",
   "execution_count": 80,
   "id": "04fce402-957e-455c-a7fb-330de7a1062f",
   "metadata": {},
   "outputs": [
    {
     "data": {
      "text/html": [
       "<div>\n",
       "<style scoped>\n",
       "    .dataframe tbody tr th:only-of-type {\n",
       "        vertical-align: middle;\n",
       "    }\n",
       "\n",
       "    .dataframe tbody tr th {\n",
       "        vertical-align: top;\n",
       "    }\n",
       "\n",
       "    .dataframe thead th {\n",
       "        text-align: right;\n",
       "    }\n",
       "</style>\n",
       "<table border=\"1\" class=\"dataframe\">\n",
       "  <thead>\n",
       "    <tr style=\"text-align: right;\">\n",
       "      <th></th>\n",
       "      <th>Num Control</th>\n",
       "      <th>Carrera</th>\n",
       "      <th>Semestre</th>\n",
       "      <th>Inscripción</th>\n",
       "      <th>Id Persona</th>\n",
       "    </tr>\n",
       "  </thead>\n",
       "  <tbody>\n",
       "    <tr>\n",
       "      <th>0</th>\n",
       "      <td>SeNeTe01</td>\n",
       "      <td>Lic. en nutriología</td>\n",
       "      <td>7</td>\n",
       "      <td>2015-05-20</td>\n",
       "      <td>1</td>\n",
       "    </tr>\n",
       "    <tr>\n",
       "      <th>1</th>\n",
       "      <td>JeViPi02</td>\n",
       "      <td>Ing. química</td>\n",
       "      <td>8</td>\n",
       "      <td>2015-05-02</td>\n",
       "      <td>2</td>\n",
       "    </tr>\n",
       "    <tr>\n",
       "      <th>2</th>\n",
       "      <td>MaFeNú03</td>\n",
       "      <td>Lic. en derecho</td>\n",
       "      <td>6</td>\n",
       "      <td>2015-05-09</td>\n",
       "      <td>3</td>\n",
       "    </tr>\n",
       "    <tr>\n",
       "      <th>3</th>\n",
       "      <td>WiVaLó04</td>\n",
       "      <td>Ing. en sistemas</td>\n",
       "      <td>2</td>\n",
       "      <td>2016-12-03</td>\n",
       "      <td>4</td>\n",
       "    </tr>\n",
       "    <tr>\n",
       "      <th>4</th>\n",
       "      <td>BaRiDe05</td>\n",
       "      <td>Ing. mecatrónica</td>\n",
       "      <td>10</td>\n",
       "      <td>2018-12-01</td>\n",
       "      <td>5</td>\n",
       "    </tr>\n",
       "  </tbody>\n",
       "</table>\n",
       "</div>"
      ],
      "text/plain": [
       "  Num Control              Carrera  Semestre Inscripción  Id Persona\n",
       "0    SeNeTe01  Lic. en nutriología         7  2015-05-20           1\n",
       "1    JeViPi02         Ing. química         8  2015-05-02           2\n",
       "2    MaFeNú03      Lic. en derecho         6  2015-05-09           3\n",
       "3    WiVaLó04     Ing. en sistemas         2  2016-12-03           4\n",
       "4    BaRiDe05     Ing. mecatrónica        10  2018-12-01           5"
      ]
     },
     "execution_count": 80,
     "metadata": {},
     "output_type": "execute_result"
    }
   ],
   "source": [
    "universidad.head(5)"
   ]
  },
  {
   "cell_type": "code",
   "execution_count": 81,
   "id": "5480d58e-7206-43c9-9865-36c226a5bb2b",
   "metadata": {},
   "outputs": [
    {
     "data": {
      "text/html": [
       "<div>\n",
       "<style scoped>\n",
       "    .dataframe tbody tr th:only-of-type {\n",
       "        vertical-align: middle;\n",
       "    }\n",
       "\n",
       "    .dataframe tbody tr th {\n",
       "        vertical-align: top;\n",
       "    }\n",
       "\n",
       "    .dataframe thead th {\n",
       "        text-align: right;\n",
       "    }\n",
       "</style>\n",
       "<table border=\"1\" class=\"dataframe\">\n",
       "  <thead>\n",
       "    <tr style=\"text-align: right;\">\n",
       "      <th></th>\n",
       "      <th>Nombre</th>\n",
       "      <th>Apellido Pat</th>\n",
       "      <th>Apellido Mat</th>\n",
       "      <th>Edad</th>\n",
       "      <th>Altura</th>\n",
       "      <th>Peso</th>\n",
       "    </tr>\n",
       "    <tr>\n",
       "      <th>Id</th>\n",
       "      <th></th>\n",
       "      <th></th>\n",
       "      <th></th>\n",
       "      <th></th>\n",
       "      <th></th>\n",
       "      <th></th>\n",
       "    </tr>\n",
       "  </thead>\n",
       "  <tbody>\n",
       "    <tr>\n",
       "      <th>1</th>\n",
       "      <td>Sergio</td>\n",
       "      <td>Negrete</td>\n",
       "      <td>Terán</td>\n",
       "      <td>18</td>\n",
       "      <td>163</td>\n",
       "      <td>90.9</td>\n",
       "    </tr>\n",
       "    <tr>\n",
       "      <th>2</th>\n",
       "      <td>Jean</td>\n",
       "      <td>Vidrio</td>\n",
       "      <td>Piñeda</td>\n",
       "      <td>23</td>\n",
       "      <td>166</td>\n",
       "      <td>61.3</td>\n",
       "    </tr>\n",
       "    <tr>\n",
       "      <th>3</th>\n",
       "      <td>María</td>\n",
       "      <td>Feria</td>\n",
       "      <td>Núñez</td>\n",
       "      <td>22</td>\n",
       "      <td>185</td>\n",
       "      <td>77.1</td>\n",
       "    </tr>\n",
       "    <tr>\n",
       "      <th>4</th>\n",
       "      <td>William</td>\n",
       "      <td>Valdovinos</td>\n",
       "      <td>López</td>\n",
       "      <td>22</td>\n",
       "      <td>155</td>\n",
       "      <td>84.6</td>\n",
       "    </tr>\n",
       "    <tr>\n",
       "      <th>5</th>\n",
       "      <td>Bastian</td>\n",
       "      <td>Richardson</td>\n",
       "      <td>De La Fuente</td>\n",
       "      <td>17</td>\n",
       "      <td>187</td>\n",
       "      <td>87.0</td>\n",
       "    </tr>\n",
       "  </tbody>\n",
       "</table>\n",
       "</div>"
      ],
      "text/plain": [
       "     Nombre Apellido Pat  Apellido Mat  Edad  Altura  Peso\n",
       "Id                                                        \n",
       "1    Sergio      Negrete         Terán    18     163  90.9\n",
       "2      Jean       Vidrio        Piñeda    23     166  61.3\n",
       "3     María        Feria         Núñez    22     185  77.1\n",
       "4   William   Valdovinos         López    22     155  84.6\n",
       "5   Bastian   Richardson  De La Fuente    17     187  87.0"
      ]
     },
     "execution_count": 81,
     "metadata": {},
     "output_type": "execute_result"
    }
   ],
   "source": [
    "amigos.head()"
   ]
  },
  {
   "cell_type": "markdown",
   "id": "c11c8ee8-6889-4209-bdfe-68f34aa3bc7d",
   "metadata": {},
   "source": [
    "__Ejercicio 14:__"
   ]
  },
  {
   "cell_type": "markdown",
   "id": "fcdb6a2d-0212-4241-9515-62826b6a812c",
   "metadata": {},
   "source": [
    "Utilizar la función \"merge\" para unir las tablas \"amigos\" y \"universidad\" en base a:\n",
    "\n",
    " • La columna 'Id' en la tabla \"amigos\"\n",
    " \n",
    " • La columna 'Id Persona' en la tabla \"universidad\"\n",
    " \n",
    "Llamar al DataFrame resultante \"estudiantes\""
   ]
  },
  {
   "cell_type": "code",
   "execution_count": 82,
   "id": "9d640b61-2b03-4a2c-a3de-fe87a165ac27",
   "metadata": {},
   "outputs": [],
   "source": [
    "estudiantes = amigos.merge(universidad,left_on = \"Id\", right_on = \"Id Persona\")"
   ]
  },
  {
   "cell_type": "code",
   "execution_count": 83,
   "id": "2dbaba7e-d4f8-4077-bba8-93b55d80e09c",
   "metadata": {},
   "outputs": [
    {
     "data": {
      "text/html": [
       "<div>\n",
       "<style scoped>\n",
       "    .dataframe tbody tr th:only-of-type {\n",
       "        vertical-align: middle;\n",
       "    }\n",
       "\n",
       "    .dataframe tbody tr th {\n",
       "        vertical-align: top;\n",
       "    }\n",
       "\n",
       "    .dataframe thead th {\n",
       "        text-align: right;\n",
       "    }\n",
       "</style>\n",
       "<table border=\"1\" class=\"dataframe\">\n",
       "  <thead>\n",
       "    <tr style=\"text-align: right;\">\n",
       "      <th></th>\n",
       "      <th>Nombre</th>\n",
       "      <th>Apellido Pat</th>\n",
       "      <th>Apellido Mat</th>\n",
       "      <th>Edad</th>\n",
       "      <th>Altura</th>\n",
       "      <th>Peso</th>\n",
       "      <th>Num Control</th>\n",
       "      <th>Carrera</th>\n",
       "      <th>Semestre</th>\n",
       "      <th>Inscripción</th>\n",
       "      <th>Id Persona</th>\n",
       "    </tr>\n",
       "  </thead>\n",
       "  <tbody>\n",
       "    <tr>\n",
       "      <th>0</th>\n",
       "      <td>Sergio</td>\n",
       "      <td>Negrete</td>\n",
       "      <td>Terán</td>\n",
       "      <td>18</td>\n",
       "      <td>163</td>\n",
       "      <td>90.9</td>\n",
       "      <td>SeNeTe01</td>\n",
       "      <td>Lic. en nutriología</td>\n",
       "      <td>7</td>\n",
       "      <td>2015-05-20</td>\n",
       "      <td>1</td>\n",
       "    </tr>\n",
       "    <tr>\n",
       "      <th>1</th>\n",
       "      <td>Jean</td>\n",
       "      <td>Vidrio</td>\n",
       "      <td>Piñeda</td>\n",
       "      <td>23</td>\n",
       "      <td>166</td>\n",
       "      <td>61.3</td>\n",
       "      <td>JeViPi02</td>\n",
       "      <td>Ing. química</td>\n",
       "      <td>8</td>\n",
       "      <td>2015-05-02</td>\n",
       "      <td>2</td>\n",
       "    </tr>\n",
       "    <tr>\n",
       "      <th>2</th>\n",
       "      <td>María</td>\n",
       "      <td>Feria</td>\n",
       "      <td>Núñez</td>\n",
       "      <td>22</td>\n",
       "      <td>185</td>\n",
       "      <td>77.1</td>\n",
       "      <td>MaFeNú03</td>\n",
       "      <td>Lic. en derecho</td>\n",
       "      <td>6</td>\n",
       "      <td>2015-05-09</td>\n",
       "      <td>3</td>\n",
       "    </tr>\n",
       "    <tr>\n",
       "      <th>3</th>\n",
       "      <td>William</td>\n",
       "      <td>Valdovinos</td>\n",
       "      <td>López</td>\n",
       "      <td>22</td>\n",
       "      <td>155</td>\n",
       "      <td>84.6</td>\n",
       "      <td>WiVaLó04</td>\n",
       "      <td>Ing. en sistemas</td>\n",
       "      <td>2</td>\n",
       "      <td>2016-12-03</td>\n",
       "      <td>4</td>\n",
       "    </tr>\n",
       "    <tr>\n",
       "      <th>4</th>\n",
       "      <td>Bastian</td>\n",
       "      <td>Richardson</td>\n",
       "      <td>De La Fuente</td>\n",
       "      <td>17</td>\n",
       "      <td>187</td>\n",
       "      <td>87.0</td>\n",
       "      <td>BaRiDe05</td>\n",
       "      <td>Ing. mecatrónica</td>\n",
       "      <td>10</td>\n",
       "      <td>2018-12-01</td>\n",
       "      <td>5</td>\n",
       "    </tr>\n",
       "  </tbody>\n",
       "</table>\n",
       "</div>"
      ],
      "text/plain": [
       "    Nombre Apellido Pat  Apellido Mat  Edad  Altura  Peso Num Control  \\\n",
       "0   Sergio      Negrete         Terán    18     163  90.9    SeNeTe01   \n",
       "1     Jean       Vidrio        Piñeda    23     166  61.3    JeViPi02   \n",
       "2    María        Feria         Núñez    22     185  77.1    MaFeNú03   \n",
       "3  William   Valdovinos         López    22     155  84.6    WiVaLó04   \n",
       "4  Bastian   Richardson  De La Fuente    17     187  87.0    BaRiDe05   \n",
       "\n",
       "               Carrera  Semestre Inscripción  Id Persona  \n",
       "0  Lic. en nutriología         7  2015-05-20           1  \n",
       "1         Ing. química         8  2015-05-02           2  \n",
       "2      Lic. en derecho         6  2015-05-09           3  \n",
       "3     Ing. en sistemas         2  2016-12-03           4  \n",
       "4     Ing. mecatrónica        10  2018-12-01           5  "
      ]
     },
     "execution_count": 83,
     "metadata": {},
     "output_type": "execute_result"
    }
   ],
   "source": [
    "estudiantes.head()"
   ]
  },
  {
   "cell_type": "markdown",
   "id": "7df0ccea-e369-4faf-8322-09b2cf9d520f",
   "metadata": {},
   "source": [
    "__Ejercicio 15:__"
   ]
  },
  {
   "cell_type": "markdown",
   "id": "a3ed6a65-2178-4d4e-8ea8-b663c6df1adb",
   "metadata": {},
   "source": [
    "Cambiar todas las letras a maúculas en la columna 2Num Control\" del DataFrame \"estudiantes\""
   ]
  },
  {
   "cell_type": "code",
   "execution_count": null,
   "id": "9d27c424-e0b6-4aea-9a8d-6722fecf9aac",
   "metadata": {},
   "outputs": [],
   "source": [
    "#estudiantes.loc[:,\"Num Control\"].str.upper()"
   ]
  },
  {
   "cell_type": "code",
   "execution_count": 85,
   "id": "a7a422d5-e10f-4b9a-9d4d-854835963570",
   "metadata": {},
   "outputs": [
    {
     "data": {
      "text/plain": [
       "0      SeNeTe01\n",
       "1      JeViPi02\n",
       "2      MaFeNú03\n",
       "3      WiVaLó04\n",
       "4      BaRiDe05\n",
       "        ...    \n",
       "95     StPeRu96\n",
       "96     MaRaRí97\n",
       "97     NiBrPa98\n",
       "98     LiÁvSa99\n",
       "99    MoNaBr100\n",
       "Name: Num Control, Length: 100, dtype: object"
      ]
     },
     "execution_count": 85,
     "metadata": {},
     "output_type": "execute_result"
    }
   ],
   "source": [
    "estudiantes.loc[:,\"Num Control\"]"
   ]
  },
  {
   "cell_type": "code",
   "execution_count": 87,
   "id": "86262c14-c2f9-40a7-895c-f009e99ac241",
   "metadata": {},
   "outputs": [
    {
     "data": {
      "text/plain": [
       "0      SENETE01\n",
       "1      JEVIPI02\n",
       "2      MAFENÚ03\n",
       "3      WIVALÓ04\n",
       "4      BARIDE05\n",
       "        ...    \n",
       "95     STPERU96\n",
       "96     MARARÍ97\n",
       "97     NIBRPA98\n",
       "98     LIÁVSA99\n",
       "99    MONABR100\n",
       "Name: Num Control, Length: 100, dtype: object"
      ]
     },
     "execution_count": 87,
     "metadata": {},
     "output_type": "execute_result"
    }
   ],
   "source": [
    "estudiantes.loc[:,\"Num Control\"].str.upper()"
   ]
  },
  {
   "cell_type": "code",
   "execution_count": 89,
   "id": "ce9c03f5-2582-4215-9b9c-a52206eab759",
   "metadata": {},
   "outputs": [],
   "source": [
    "estudiantes.loc[:, \"Num Control\"] = estudiantes.loc[:,\"Num Control\"].str.upper()"
   ]
  },
  {
   "cell_type": "code",
   "execution_count": 90,
   "id": "a7c7d8ab-aa30-4ec4-92b6-b72b90176a06",
   "metadata": {},
   "outputs": [
    {
     "data": {
      "text/html": [
       "<div>\n",
       "<style scoped>\n",
       "    .dataframe tbody tr th:only-of-type {\n",
       "        vertical-align: middle;\n",
       "    }\n",
       "\n",
       "    .dataframe tbody tr th {\n",
       "        vertical-align: top;\n",
       "    }\n",
       "\n",
       "    .dataframe thead th {\n",
       "        text-align: right;\n",
       "    }\n",
       "</style>\n",
       "<table border=\"1\" class=\"dataframe\">\n",
       "  <thead>\n",
       "    <tr style=\"text-align: right;\">\n",
       "      <th></th>\n",
       "      <th>Nombre</th>\n",
       "      <th>Apellido Pat</th>\n",
       "      <th>Apellido Mat</th>\n",
       "      <th>Edad</th>\n",
       "      <th>Altura</th>\n",
       "      <th>Peso</th>\n",
       "      <th>Num Control</th>\n",
       "      <th>Carrera</th>\n",
       "      <th>Semestre</th>\n",
       "      <th>Inscripción</th>\n",
       "      <th>Id Persona</th>\n",
       "    </tr>\n",
       "  </thead>\n",
       "  <tbody>\n",
       "    <tr>\n",
       "      <th>0</th>\n",
       "      <td>Sergio</td>\n",
       "      <td>Negrete</td>\n",
       "      <td>Terán</td>\n",
       "      <td>18</td>\n",
       "      <td>163</td>\n",
       "      <td>90.9</td>\n",
       "      <td>SENETE01</td>\n",
       "      <td>Lic. en nutriología</td>\n",
       "      <td>7</td>\n",
       "      <td>2015-05-20</td>\n",
       "      <td>1</td>\n",
       "    </tr>\n",
       "    <tr>\n",
       "      <th>1</th>\n",
       "      <td>Jean</td>\n",
       "      <td>Vidrio</td>\n",
       "      <td>Piñeda</td>\n",
       "      <td>23</td>\n",
       "      <td>166</td>\n",
       "      <td>61.3</td>\n",
       "      <td>JEVIPI02</td>\n",
       "      <td>Ing. química</td>\n",
       "      <td>8</td>\n",
       "      <td>2015-05-02</td>\n",
       "      <td>2</td>\n",
       "    </tr>\n",
       "    <tr>\n",
       "      <th>2</th>\n",
       "      <td>María</td>\n",
       "      <td>Feria</td>\n",
       "      <td>Núñez</td>\n",
       "      <td>22</td>\n",
       "      <td>185</td>\n",
       "      <td>77.1</td>\n",
       "      <td>MAFENÚ03</td>\n",
       "      <td>Lic. en derecho</td>\n",
       "      <td>6</td>\n",
       "      <td>2015-05-09</td>\n",
       "      <td>3</td>\n",
       "    </tr>\n",
       "    <tr>\n",
       "      <th>3</th>\n",
       "      <td>William</td>\n",
       "      <td>Valdovinos</td>\n",
       "      <td>López</td>\n",
       "      <td>22</td>\n",
       "      <td>155</td>\n",
       "      <td>84.6</td>\n",
       "      <td>WIVALÓ04</td>\n",
       "      <td>Ing. en sistemas</td>\n",
       "      <td>2</td>\n",
       "      <td>2016-12-03</td>\n",
       "      <td>4</td>\n",
       "    </tr>\n",
       "    <tr>\n",
       "      <th>4</th>\n",
       "      <td>Bastian</td>\n",
       "      <td>Richardson</td>\n",
       "      <td>De La Fuente</td>\n",
       "      <td>17</td>\n",
       "      <td>187</td>\n",
       "      <td>87.0</td>\n",
       "      <td>BARIDE05</td>\n",
       "      <td>Ing. mecatrónica</td>\n",
       "      <td>10</td>\n",
       "      <td>2018-12-01</td>\n",
       "      <td>5</td>\n",
       "    </tr>\n",
       "  </tbody>\n",
       "</table>\n",
       "</div>"
      ],
      "text/plain": [
       "    Nombre Apellido Pat  Apellido Mat  Edad  Altura  Peso Num Control  \\\n",
       "0   Sergio      Negrete         Terán    18     163  90.9    SENETE01   \n",
       "1     Jean       Vidrio        Piñeda    23     166  61.3    JEVIPI02   \n",
       "2    María        Feria         Núñez    22     185  77.1    MAFENÚ03   \n",
       "3  William   Valdovinos         López    22     155  84.6    WIVALÓ04   \n",
       "4  Bastian   Richardson  De La Fuente    17     187  87.0    BARIDE05   \n",
       "\n",
       "               Carrera  Semestre Inscripción  Id Persona  \n",
       "0  Lic. en nutriología         7  2015-05-20           1  \n",
       "1         Ing. química         8  2015-05-02           2  \n",
       "2      Lic. en derecho         6  2015-05-09           3  \n",
       "3     Ing. en sistemas         2  2016-12-03           4  \n",
       "4     Ing. mecatrónica        10  2018-12-01           5  "
      ]
     },
     "execution_count": 90,
     "metadata": {},
     "output_type": "execute_result"
    }
   ],
   "source": [
    "estudiantes.head()"
   ]
  },
  {
   "cell_type": "markdown",
   "id": "44d1a7e1-f6bb-40eb-a493-f24acd7cc0da",
   "metadata": {},
   "source": [
    "__Ejercicio 16:__"
   ]
  },
  {
   "cell_type": "markdown",
   "id": "20083ec9-291f-465b-90c2-65f8f37b10a3",
   "metadata": {},
   "source": [
    "Cambiar la primera letra de cada palabra a mayúsculas en la Columna \"Carrera\" del DataFrame \"etudiantes\""
   ]
  },
  {
   "cell_type": "code",
   "execution_count": null,
   "id": "ddd37a73-7f96-40a2-b5f3-624513236d04",
   "metadata": {},
   "outputs": [],
   "source": [
    "#estudiantes.loc[:,\"Carrera\"].str.title() "
   ]
  },
  {
   "cell_type": "code",
   "execution_count": 94,
   "id": "1cdcb9e6-1a8c-41e8-921b-3280e3a21d73",
   "metadata": {},
   "outputs": [
    {
     "data": {
      "text/plain": [
       "0    Lic. En Nutriología\n",
       "1           Ing. Química\n",
       "Name: Carrera, dtype: object"
      ]
     },
     "execution_count": 94,
     "metadata": {},
     "output_type": "execute_result"
    }
   ],
   "source": [
    "estudiantes.loc[:,\"Carrera\"].str.title().head(2)"
   ]
  },
  {
   "cell_type": "code",
   "execution_count": 95,
   "id": "8e4bdc44-0f3a-44d4-855e-913f9a9cc73c",
   "metadata": {},
   "outputs": [
    {
     "data": {
      "text/plain": [
       "0     Lic. En Nutriología\n",
       "1            Ing. Química\n",
       "2         Lic. En Derecho\n",
       "3        Ing. En Sistemas\n",
       "4        Ing. Mecatrónica\n",
       "             ...         \n",
       "95    Lic. En Nutriología\n",
       "96        Lic. En Derecho\n",
       "97       Ing. Mecatrónica\n",
       "98    Lic. En Nutriología\n",
       "99       Ing. Mecatrónica\n",
       "Name: Carrera, Length: 100, dtype: object"
      ]
     },
     "execution_count": 95,
     "metadata": {},
     "output_type": "execute_result"
    }
   ],
   "source": [
    "estudiantes.loc[:,\"Carrera\"].str.title()"
   ]
  },
  {
   "cell_type": "code",
   "execution_count": 96,
   "id": "338ab46d-d1a4-4398-ba17-1772c8d5c585",
   "metadata": {},
   "outputs": [],
   "source": [
    "estudiantes.loc[:,\"Carrera\"] = estudiantes.loc[:,\"Carrera\"].str.title()"
   ]
  },
  {
   "cell_type": "code",
   "execution_count": 98,
   "id": "04a4d6b4-32a2-42c6-b9b2-11c987267340",
   "metadata": {},
   "outputs": [
    {
     "data": {
      "text/html": [
       "<div>\n",
       "<style scoped>\n",
       "    .dataframe tbody tr th:only-of-type {\n",
       "        vertical-align: middle;\n",
       "    }\n",
       "\n",
       "    .dataframe tbody tr th {\n",
       "        vertical-align: top;\n",
       "    }\n",
       "\n",
       "    .dataframe thead th {\n",
       "        text-align: right;\n",
       "    }\n",
       "</style>\n",
       "<table border=\"1\" class=\"dataframe\">\n",
       "  <thead>\n",
       "    <tr style=\"text-align: right;\">\n",
       "      <th></th>\n",
       "      <th>Nombre</th>\n",
       "      <th>Apellido Pat</th>\n",
       "      <th>Apellido Mat</th>\n",
       "      <th>Edad</th>\n",
       "      <th>Altura</th>\n",
       "      <th>Peso</th>\n",
       "      <th>Num Control</th>\n",
       "      <th>Carrera</th>\n",
       "      <th>Semestre</th>\n",
       "      <th>Inscripción</th>\n",
       "      <th>Id Persona</th>\n",
       "    </tr>\n",
       "  </thead>\n",
       "  <tbody>\n",
       "    <tr>\n",
       "      <th>0</th>\n",
       "      <td>Sergio</td>\n",
       "      <td>Negrete</td>\n",
       "      <td>Terán</td>\n",
       "      <td>18</td>\n",
       "      <td>163</td>\n",
       "      <td>90.9</td>\n",
       "      <td>SENETE01</td>\n",
       "      <td>Lic. En Nutriología</td>\n",
       "      <td>7</td>\n",
       "      <td>2015-05-20</td>\n",
       "      <td>1</td>\n",
       "    </tr>\n",
       "    <tr>\n",
       "      <th>1</th>\n",
       "      <td>Jean</td>\n",
       "      <td>Vidrio</td>\n",
       "      <td>Piñeda</td>\n",
       "      <td>23</td>\n",
       "      <td>166</td>\n",
       "      <td>61.3</td>\n",
       "      <td>JEVIPI02</td>\n",
       "      <td>Ing. Química</td>\n",
       "      <td>8</td>\n",
       "      <td>2015-05-02</td>\n",
       "      <td>2</td>\n",
       "    </tr>\n",
       "    <tr>\n",
       "      <th>2</th>\n",
       "      <td>María</td>\n",
       "      <td>Feria</td>\n",
       "      <td>Núñez</td>\n",
       "      <td>22</td>\n",
       "      <td>185</td>\n",
       "      <td>77.1</td>\n",
       "      <td>MAFENÚ03</td>\n",
       "      <td>Lic. En Derecho</td>\n",
       "      <td>6</td>\n",
       "      <td>2015-05-09</td>\n",
       "      <td>3</td>\n",
       "    </tr>\n",
       "    <tr>\n",
       "      <th>3</th>\n",
       "      <td>William</td>\n",
       "      <td>Valdovinos</td>\n",
       "      <td>López</td>\n",
       "      <td>22</td>\n",
       "      <td>155</td>\n",
       "      <td>84.6</td>\n",
       "      <td>WIVALÓ04</td>\n",
       "      <td>Ing. En Sistemas</td>\n",
       "      <td>2</td>\n",
       "      <td>2016-12-03</td>\n",
       "      <td>4</td>\n",
       "    </tr>\n",
       "    <tr>\n",
       "      <th>4</th>\n",
       "      <td>Bastian</td>\n",
       "      <td>Richardson</td>\n",
       "      <td>De La Fuente</td>\n",
       "      <td>17</td>\n",
       "      <td>187</td>\n",
       "      <td>87.0</td>\n",
       "      <td>BARIDE05</td>\n",
       "      <td>Ing. Mecatrónica</td>\n",
       "      <td>10</td>\n",
       "      <td>2018-12-01</td>\n",
       "      <td>5</td>\n",
       "    </tr>\n",
       "  </tbody>\n",
       "</table>\n",
       "</div>"
      ],
      "text/plain": [
       "    Nombre Apellido Pat  Apellido Mat  Edad  Altura  Peso Num Control  \\\n",
       "0   Sergio      Negrete         Terán    18     163  90.9    SENETE01   \n",
       "1     Jean       Vidrio        Piñeda    23     166  61.3    JEVIPI02   \n",
       "2    María        Feria         Núñez    22     185  77.1    MAFENÚ03   \n",
       "3  William   Valdovinos         López    22     155  84.6    WIVALÓ04   \n",
       "4  Bastian   Richardson  De La Fuente    17     187  87.0    BARIDE05   \n",
       "\n",
       "               Carrera  Semestre Inscripción  Id Persona  \n",
       "0  Lic. En Nutriología         7  2015-05-20           1  \n",
       "1         Ing. Química         8  2015-05-02           2  \n",
       "2      Lic. En Derecho         6  2015-05-09           3  \n",
       "3     Ing. En Sistemas         2  2016-12-03           4  \n",
       "4     Ing. Mecatrónica        10  2018-12-01           5  "
      ]
     },
     "execution_count": 98,
     "metadata": {},
     "output_type": "execute_result"
    }
   ],
   "source": [
    "estudiantes.head()"
   ]
  },
  {
   "cell_type": "code",
   "execution_count": null,
   "id": "2cae9b63-0f17-450f-8733-6b23ce8f1628",
   "metadata": {},
   "outputs": [],
   "source": []
  },
  {
   "cell_type": "markdown",
   "id": "bab3b9c6-9114-46ce-a10a-c53b683562cb",
   "metadata": {},
   "source": [
    "__Ejercicio 17:__"
   ]
  },
  {
   "cell_type": "markdown",
   "id": "524da6b1-ffd5-4988-95a5-bc14ab331dec",
   "metadata": {},
   "source": [
    "Agregar una columna llamada \"Año\" que contenga el año en que el estudiante se inscribio a la carrera deldataFrame \"estudiantes\""
   ]
  },
  {
   "cell_type": "code",
   "execution_count": 99,
   "id": "2a195831-1cfe-40cb-9534-e800812bc079",
   "metadata": {},
   "outputs": [],
   "source": [
    "estudiantes[\"Año\"] = estudiantes.Inscripción.dt.year"
   ]
  },
  {
   "cell_type": "code",
   "execution_count": 101,
   "id": "586e8677-fc7d-4bdd-b0cf-3598ad83deae",
   "metadata": {},
   "outputs": [
    {
     "data": {
      "text/html": [
       "<div>\n",
       "<style scoped>\n",
       "    .dataframe tbody tr th:only-of-type {\n",
       "        vertical-align: middle;\n",
       "    }\n",
       "\n",
       "    .dataframe tbody tr th {\n",
       "        vertical-align: top;\n",
       "    }\n",
       "\n",
       "    .dataframe thead th {\n",
       "        text-align: right;\n",
       "    }\n",
       "</style>\n",
       "<table border=\"1\" class=\"dataframe\">\n",
       "  <thead>\n",
       "    <tr style=\"text-align: right;\">\n",
       "      <th></th>\n",
       "      <th>Nombre</th>\n",
       "      <th>Apellido Pat</th>\n",
       "      <th>Apellido Mat</th>\n",
       "      <th>Edad</th>\n",
       "      <th>Altura</th>\n",
       "      <th>Peso</th>\n",
       "      <th>Num Control</th>\n",
       "      <th>Carrera</th>\n",
       "      <th>Semestre</th>\n",
       "      <th>Inscripción</th>\n",
       "      <th>Id Persona</th>\n",
       "      <th>Año</th>\n",
       "    </tr>\n",
       "  </thead>\n",
       "  <tbody>\n",
       "    <tr>\n",
       "      <th>0</th>\n",
       "      <td>Sergio</td>\n",
       "      <td>Negrete</td>\n",
       "      <td>Terán</td>\n",
       "      <td>18</td>\n",
       "      <td>163</td>\n",
       "      <td>90.9</td>\n",
       "      <td>SENETE01</td>\n",
       "      <td>Lic. En Nutriología</td>\n",
       "      <td>7</td>\n",
       "      <td>2015-05-20</td>\n",
       "      <td>1</td>\n",
       "      <td>2015</td>\n",
       "    </tr>\n",
       "    <tr>\n",
       "      <th>1</th>\n",
       "      <td>Jean</td>\n",
       "      <td>Vidrio</td>\n",
       "      <td>Piñeda</td>\n",
       "      <td>23</td>\n",
       "      <td>166</td>\n",
       "      <td>61.3</td>\n",
       "      <td>JEVIPI02</td>\n",
       "      <td>Ing. Química</td>\n",
       "      <td>8</td>\n",
       "      <td>2015-05-02</td>\n",
       "      <td>2</td>\n",
       "      <td>2015</td>\n",
       "    </tr>\n",
       "  </tbody>\n",
       "</table>\n",
       "</div>"
      ],
      "text/plain": [
       "   Nombre Apellido Pat Apellido Mat  Edad  Altura  Peso Num Control  \\\n",
       "0  Sergio      Negrete        Terán    18     163  90.9    SENETE01   \n",
       "1    Jean       Vidrio       Piñeda    23     166  61.3    JEVIPI02   \n",
       "\n",
       "               Carrera  Semestre Inscripción  Id Persona   Año  \n",
       "0  Lic. En Nutriología         7  2015-05-20           1  2015  \n",
       "1         Ing. Química         8  2015-05-02           2  2015  "
      ]
     },
     "execution_count": 101,
     "metadata": {},
     "output_type": "execute_result"
    }
   ],
   "source": [
    "estudiantes.head(2)"
   ]
  },
  {
   "cell_type": "markdown",
   "id": "e98b3c5c-c714-4d2e-a1f4-4c3cdcce08b2",
   "metadata": {},
   "source": [
    "__Ejercicio 18:__"
   ]
  },
  {
   "cell_type": "markdown",
   "id": "c6efaa92-0c8b-4443-9a19-0ba4c86e1a48",
   "metadata": {},
   "source": [
    "Agregar una columna llamada \"Año/Mes\" que contenga el año y mes en que el estudiante se inscribio a la carrera del DataFrame \"universidad\"."
   ]
  },
  {
   "cell_type": "code",
   "execution_count": 102,
   "id": "1dbedeec-33c7-4c1b-8da2-4e31bf0baeae",
   "metadata": {},
   "outputs": [],
   "source": [
    "estudiantes[\"Año/Mes\"] = estudiantes.Inscripción.dt.strftime(\"%Y/%m\")"
   ]
  },
  {
   "cell_type": "code",
   "execution_count": 103,
   "id": "c863895f-d5e4-4c31-a28e-92b44b08630d",
   "metadata": {},
   "outputs": [
    {
     "data": {
      "text/html": [
       "<div>\n",
       "<style scoped>\n",
       "    .dataframe tbody tr th:only-of-type {\n",
       "        vertical-align: middle;\n",
       "    }\n",
       "\n",
       "    .dataframe tbody tr th {\n",
       "        vertical-align: top;\n",
       "    }\n",
       "\n",
       "    .dataframe thead th {\n",
       "        text-align: right;\n",
       "    }\n",
       "</style>\n",
       "<table border=\"1\" class=\"dataframe\">\n",
       "  <thead>\n",
       "    <tr style=\"text-align: right;\">\n",
       "      <th></th>\n",
       "      <th>Nombre</th>\n",
       "      <th>Apellido Pat</th>\n",
       "      <th>Apellido Mat</th>\n",
       "      <th>Edad</th>\n",
       "      <th>Altura</th>\n",
       "      <th>Peso</th>\n",
       "      <th>Num Control</th>\n",
       "      <th>Carrera</th>\n",
       "      <th>Semestre</th>\n",
       "      <th>Inscripción</th>\n",
       "      <th>Id Persona</th>\n",
       "      <th>Año</th>\n",
       "      <th>Año/Mes</th>\n",
       "    </tr>\n",
       "  </thead>\n",
       "  <tbody>\n",
       "    <tr>\n",
       "      <th>0</th>\n",
       "      <td>Sergio</td>\n",
       "      <td>Negrete</td>\n",
       "      <td>Terán</td>\n",
       "      <td>18</td>\n",
       "      <td>163</td>\n",
       "      <td>90.9</td>\n",
       "      <td>SENETE01</td>\n",
       "      <td>Lic. En Nutriología</td>\n",
       "      <td>7</td>\n",
       "      <td>2015-05-20</td>\n",
       "      <td>1</td>\n",
       "      <td>2015</td>\n",
       "      <td>2015/05</td>\n",
       "    </tr>\n",
       "    <tr>\n",
       "      <th>1</th>\n",
       "      <td>Jean</td>\n",
       "      <td>Vidrio</td>\n",
       "      <td>Piñeda</td>\n",
       "      <td>23</td>\n",
       "      <td>166</td>\n",
       "      <td>61.3</td>\n",
       "      <td>JEVIPI02</td>\n",
       "      <td>Ing. Química</td>\n",
       "      <td>8</td>\n",
       "      <td>2015-05-02</td>\n",
       "      <td>2</td>\n",
       "      <td>2015</td>\n",
       "      <td>2015/05</td>\n",
       "    </tr>\n",
       "    <tr>\n",
       "      <th>2</th>\n",
       "      <td>María</td>\n",
       "      <td>Feria</td>\n",
       "      <td>Núñez</td>\n",
       "      <td>22</td>\n",
       "      <td>185</td>\n",
       "      <td>77.1</td>\n",
       "      <td>MAFENÚ03</td>\n",
       "      <td>Lic. En Derecho</td>\n",
       "      <td>6</td>\n",
       "      <td>2015-05-09</td>\n",
       "      <td>3</td>\n",
       "      <td>2015</td>\n",
       "      <td>2015/05</td>\n",
       "    </tr>\n",
       "    <tr>\n",
       "      <th>3</th>\n",
       "      <td>William</td>\n",
       "      <td>Valdovinos</td>\n",
       "      <td>López</td>\n",
       "      <td>22</td>\n",
       "      <td>155</td>\n",
       "      <td>84.6</td>\n",
       "      <td>WIVALÓ04</td>\n",
       "      <td>Ing. En Sistemas</td>\n",
       "      <td>2</td>\n",
       "      <td>2016-12-03</td>\n",
       "      <td>4</td>\n",
       "      <td>2016</td>\n",
       "      <td>2016/12</td>\n",
       "    </tr>\n",
       "    <tr>\n",
       "      <th>4</th>\n",
       "      <td>Bastian</td>\n",
       "      <td>Richardson</td>\n",
       "      <td>De La Fuente</td>\n",
       "      <td>17</td>\n",
       "      <td>187</td>\n",
       "      <td>87.0</td>\n",
       "      <td>BARIDE05</td>\n",
       "      <td>Ing. Mecatrónica</td>\n",
       "      <td>10</td>\n",
       "      <td>2018-12-01</td>\n",
       "      <td>5</td>\n",
       "      <td>2018</td>\n",
       "      <td>2018/12</td>\n",
       "    </tr>\n",
       "  </tbody>\n",
       "</table>\n",
       "</div>"
      ],
      "text/plain": [
       "    Nombre Apellido Pat  Apellido Mat  Edad  Altura  Peso Num Control  \\\n",
       "0   Sergio      Negrete         Terán    18     163  90.9    SENETE01   \n",
       "1     Jean       Vidrio        Piñeda    23     166  61.3    JEVIPI02   \n",
       "2    María        Feria         Núñez    22     185  77.1    MAFENÚ03   \n",
       "3  William   Valdovinos         López    22     155  84.6    WIVALÓ04   \n",
       "4  Bastian   Richardson  De La Fuente    17     187  87.0    BARIDE05   \n",
       "\n",
       "               Carrera  Semestre Inscripción  Id Persona   Año  Año/Mes  \n",
       "0  Lic. En Nutriología         7  2015-05-20           1  2015  2015/05  \n",
       "1         Ing. Química         8  2015-05-02           2  2015  2015/05  \n",
       "2      Lic. En Derecho         6  2015-05-09           3  2015  2015/05  \n",
       "3     Ing. En Sistemas         2  2016-12-03           4  2016  2016/12  \n",
       "4     Ing. Mecatrónica        10  2018-12-01           5  2018  2018/12  "
      ]
     },
     "execution_count": 103,
     "metadata": {},
     "output_type": "execute_result"
    }
   ],
   "source": [
    "estudiantes.head(5)"
   ]
  },
  {
   "cell_type": "markdown",
   "id": "9cdef1a7-ed9b-40ce-a88a-8f098e4ee4a1",
   "metadata": {},
   "source": [
    "__Ejercicio 19:__"
   ]
  },
  {
   "cell_type": "markdown",
   "id": "f2dc1858-270a-4d5c-a4b4-07ba402ef6be",
   "metadata": {},
   "source": [
    "Crear un DataFrame llamado \"licenciados\" que contenga los datos de los estudiantes inscritos a una licenciatura"
   ]
  },
  {
   "cell_type": "code",
   "execution_count": 104,
   "id": "2f7c2b15-344c-4a8e-8aac-ac8f0ecc9024",
   "metadata": {},
   "outputs": [
    {
     "data": {
      "text/plain": [
       "0      True\n",
       "1     False\n",
       "2      True\n",
       "3     False\n",
       "4     False\n",
       "      ...  \n",
       "95     True\n",
       "96     True\n",
       "97    False\n",
       "98     True\n",
       "99    False\n",
       "Name: Carrera, Length: 100, dtype: bool"
      ]
     },
     "execution_count": 104,
     "metadata": {},
     "output_type": "execute_result"
    }
   ],
   "source": [
    "estudiantes.loc[:,\"Carrera\"].str.contains(\"Lic\")"
   ]
  },
  {
   "cell_type": "code",
   "execution_count": 106,
   "id": "b43d41c7-abd2-4370-872f-0e6aa4d7789f",
   "metadata": {},
   "outputs": [
    {
     "data": {
      "text/plain": [
       "0      True\n",
       "1     False\n",
       "2      True\n",
       "3     False\n",
       "4     False\n",
       "      ...  \n",
       "95     True\n",
       "96     True\n",
       "97    False\n",
       "98     True\n",
       "99    False\n",
       "Name: Carrera, Length: 100, dtype: bool"
      ]
     },
     "execution_count": 106,
     "metadata": {},
     "output_type": "execute_result"
    }
   ],
   "source": [
    "licenciados = estudiantes.loc[:,\"Carrera\"].str.contains(\"Lic\")"
   ]
  },
  {
   "cell_type": "code",
   "execution_count": 108,
   "id": "5916d074-bd1b-4dd0-a6b9-9fb16bbef58e",
   "metadata": {},
   "outputs": [],
   "source": [
    "licenciados = estudiantes[estudiantes.loc[:,\"Carrera\"].str.contains(\"Lic\")]"
   ]
  },
  {
   "cell_type": "code",
   "execution_count": 109,
   "id": "bd054fba-5b4e-44cc-b620-647189bbf5d2",
   "metadata": {},
   "outputs": [
    {
     "data": {
      "text/html": [
       "<div>\n",
       "<style scoped>\n",
       "    .dataframe tbody tr th:only-of-type {\n",
       "        vertical-align: middle;\n",
       "    }\n",
       "\n",
       "    .dataframe tbody tr th {\n",
       "        vertical-align: top;\n",
       "    }\n",
       "\n",
       "    .dataframe thead th {\n",
       "        text-align: right;\n",
       "    }\n",
       "</style>\n",
       "<table border=\"1\" class=\"dataframe\">\n",
       "  <thead>\n",
       "    <tr style=\"text-align: right;\">\n",
       "      <th></th>\n",
       "      <th>Nombre</th>\n",
       "      <th>Apellido Pat</th>\n",
       "      <th>Apellido Mat</th>\n",
       "      <th>Edad</th>\n",
       "      <th>Altura</th>\n",
       "      <th>Peso</th>\n",
       "      <th>Num Control</th>\n",
       "      <th>Carrera</th>\n",
       "      <th>Semestre</th>\n",
       "      <th>Inscripción</th>\n",
       "      <th>Id Persona</th>\n",
       "      <th>Año</th>\n",
       "      <th>Año/Mes</th>\n",
       "    </tr>\n",
       "  </thead>\n",
       "  <tbody>\n",
       "    <tr>\n",
       "      <th>0</th>\n",
       "      <td>Sergio</td>\n",
       "      <td>Negrete</td>\n",
       "      <td>Terán</td>\n",
       "      <td>18</td>\n",
       "      <td>163</td>\n",
       "      <td>90.9</td>\n",
       "      <td>SENETE01</td>\n",
       "      <td>Lic. En Nutriología</td>\n",
       "      <td>7</td>\n",
       "      <td>2015-05-20</td>\n",
       "      <td>1</td>\n",
       "      <td>2015</td>\n",
       "      <td>2015/05</td>\n",
       "    </tr>\n",
       "    <tr>\n",
       "      <th>2</th>\n",
       "      <td>María</td>\n",
       "      <td>Feria</td>\n",
       "      <td>Núñez</td>\n",
       "      <td>22</td>\n",
       "      <td>185</td>\n",
       "      <td>77.1</td>\n",
       "      <td>MAFENÚ03</td>\n",
       "      <td>Lic. En Derecho</td>\n",
       "      <td>6</td>\n",
       "      <td>2015-05-09</td>\n",
       "      <td>3</td>\n",
       "      <td>2015</td>\n",
       "      <td>2015/05</td>\n",
       "    </tr>\n",
       "    <tr>\n",
       "      <th>7</th>\n",
       "      <td>Jamir</td>\n",
       "      <td>Aguirre</td>\n",
       "      <td>Escobedo</td>\n",
       "      <td>17</td>\n",
       "      <td>169</td>\n",
       "      <td>77.5</td>\n",
       "      <td>JAAGES08</td>\n",
       "      <td>Lic. En Derecho</td>\n",
       "      <td>7</td>\n",
       "      <td>2018-12-12</td>\n",
       "      <td>8</td>\n",
       "      <td>2018</td>\n",
       "      <td>2018/12</td>\n",
       "    </tr>\n",
       "    <tr>\n",
       "      <th>8</th>\n",
       "      <td>Claudia</td>\n",
       "      <td>Hernán</td>\n",
       "      <td>Arias</td>\n",
       "      <td>23</td>\n",
       "      <td>165</td>\n",
       "      <td>54.0</td>\n",
       "      <td>CLHEAR09</td>\n",
       "      <td>Lic. En Nutriología</td>\n",
       "      <td>4</td>\n",
       "      <td>2015-05-01</td>\n",
       "      <td>9</td>\n",
       "      <td>2015</td>\n",
       "      <td>2015/05</td>\n",
       "    </tr>\n",
       "    <tr>\n",
       "      <th>12</th>\n",
       "      <td>Rafael</td>\n",
       "      <td>Berlanga</td>\n",
       "      <td>Burgos</td>\n",
       "      <td>20</td>\n",
       "      <td>167</td>\n",
       "      <td>56.1</td>\n",
       "      <td>RABEBU13</td>\n",
       "      <td>Lic. En Derecho</td>\n",
       "      <td>10</td>\n",
       "      <td>2017-05-21</td>\n",
       "      <td>13</td>\n",
       "      <td>2017</td>\n",
       "      <td>2017/05</td>\n",
       "    </tr>\n",
       "  </tbody>\n",
       "</table>\n",
       "</div>"
      ],
      "text/plain": [
       "     Nombre Apellido Pat Apellido Mat  Edad  Altura  Peso Num Control  \\\n",
       "0    Sergio      Negrete        Terán    18     163  90.9    SENETE01   \n",
       "2     María        Feria        Núñez    22     185  77.1    MAFENÚ03   \n",
       "7     Jamir      Aguirre     Escobedo    17     169  77.5    JAAGES08   \n",
       "8   Claudia       Hernán        Arias    23     165  54.0    CLHEAR09   \n",
       "12   Rafael     Berlanga       Burgos    20     167  56.1    RABEBU13   \n",
       "\n",
       "                Carrera  Semestre Inscripción  Id Persona   Año  Año/Mes  \n",
       "0   Lic. En Nutriología         7  2015-05-20           1  2015  2015/05  \n",
       "2       Lic. En Derecho         6  2015-05-09           3  2015  2015/05  \n",
       "7       Lic. En Derecho         7  2018-12-12           8  2018  2018/12  \n",
       "8   Lic. En Nutriología         4  2015-05-01           9  2015  2015/05  \n",
       "12      Lic. En Derecho        10  2017-05-21          13  2017  2017/05  "
      ]
     },
     "execution_count": 109,
     "metadata": {},
     "output_type": "execute_result"
    }
   ],
   "source": [
    "licenciados.head()"
   ]
  },
  {
   "cell_type": "markdown",
   "id": "94917b0b-bf93-4864-9c69-55bc6d271cf6",
   "metadata": {},
   "source": [
    "__Ejercicio 20:__"
   ]
  },
  {
   "cell_type": "markdown",
   "id": "404bdd62-2618-4c82-86ad-0732ec05f46e",
   "metadata": {},
   "source": [
    "Contar la cantidad de licenciados inscritos por cada año utlizando groupby"
   ]
  },
  {
   "cell_type": "code",
   "execution_count": 112,
   "id": "555d825d-4334-4936-b79f-3ffbec25eadb",
   "metadata": {},
   "outputs": [],
   "source": [
    "lic_x_año = licenciados.groupby(by=\"Año\").size()"
   ]
  },
  {
   "cell_type": "code",
   "execution_count": 113,
   "id": "7620b272-979e-48e3-afec-3303430c3048",
   "metadata": {},
   "outputs": [
    {
     "data": {
      "text/plain": [
       "Año\n",
       "2015    13\n",
       "2016     8\n",
       "2017    13\n",
       "2018    15\n",
       "dtype: int64"
      ]
     },
     "execution_count": 113,
     "metadata": {},
     "output_type": "execute_result"
    }
   ],
   "source": [
    "lic_x_año"
   ]
  },
  {
   "cell_type": "code",
   "execution_count": 114,
   "id": "484c568a-88a3-415c-b456-654a84b63a92",
   "metadata": {},
   "outputs": [],
   "source": [
    "import matplotlib.pyplot as plt"
   ]
  },
  {
   "cell_type": "code",
   "execution_count": 116,
   "id": "52e95711-e72b-4555-96ab-112f4f6d9894",
   "metadata": {},
   "outputs": [
    {
     "data": {
      "image/png": "[encoded data removed]",
      "text/plain": [
       "<Figure size 640x480 with 1 Axes>"
      ]
     },
     "metadata": {},
     "output_type": "display_data"
    }
   ],
   "source": [
    "lic_x_año.plot(kind=\"bar\")\n",
    "plt.title(\"Inscripción de Licenciados por Año\")\n",
    "plt.show()\n"
   ]
  },
  {
   "cell_type": "markdown",
   "id": "de4c0a87-4b42-4d7f-a94f-99c770a4b4ff",
   "metadata": {},
   "source": [
    "__Ejercicio 21:__"
   ]
  },
  {
   "cell_type": "markdown",
   "id": "379e37cb-c3ed-4de3-99dd-696e77df0288",
   "metadata": {},
   "source": [
    "Contar la cantidad de alumnos inscritos en cada año separado por licenciaura utilizando pivot_table"
   ]
  },
  {
   "cell_type": "code",
   "execution_count": 118,
   "id": "20284784-675c-4932-b986-c56d5956439b",
   "metadata": {},
   "outputs": [],
   "source": [
    "ingresos = licenciados.pivot_table(index=\"Año\",columns=\"Carrera\", values=\"Edad\", aggfunc=\"count\", fill_value=0)"
   ]
  },
  {
   "cell_type": "code",
   "execution_count": 119,
   "id": "8c4b51c8-a1fd-475b-bf3a-4181f7dbb7e0",
   "metadata": {},
   "outputs": [
    {
     "data": {
      "text/html": [
       "<div>\n",
       "<style scoped>\n",
       "    .dataframe tbody tr th:only-of-type {\n",
       "        vertical-align: middle;\n",
       "    }\n",
       "\n",
       "    .dataframe tbody tr th {\n",
       "        vertical-align: top;\n",
       "    }\n",
       "\n",
       "    .dataframe thead th {\n",
       "        text-align: right;\n",
       "    }\n",
       "</style>\n",
       "<table border=\"1\" class=\"dataframe\">\n",
       "  <thead>\n",
       "    <tr style=\"text-align: right;\">\n",
       "      <th>Carrera</th>\n",
       "      <th>Lic. En Derecho</th>\n",
       "      <th>Lic. En Nutriología</th>\n",
       "      <th>Lic. En Pedagogía</th>\n",
       "    </tr>\n",
       "    <tr>\n",
       "      <th>Año</th>\n",
       "      <th></th>\n",
       "      <th></th>\n",
       "      <th></th>\n",
       "    </tr>\n",
       "  </thead>\n",
       "  <tbody>\n",
       "    <tr>\n",
       "      <th>2015</th>\n",
       "      <td>4</td>\n",
       "      <td>6</td>\n",
       "      <td>3</td>\n",
       "    </tr>\n",
       "    <tr>\n",
       "      <th>2016</th>\n",
       "      <td>3</td>\n",
       "      <td>4</td>\n",
       "      <td>1</td>\n",
       "    </tr>\n",
       "    <tr>\n",
       "      <th>2017</th>\n",
       "      <td>4</td>\n",
       "      <td>6</td>\n",
       "      <td>3</td>\n",
       "    </tr>\n",
       "    <tr>\n",
       "      <th>2018</th>\n",
       "      <td>6</td>\n",
       "      <td>3</td>\n",
       "      <td>6</td>\n",
       "    </tr>\n",
       "  </tbody>\n",
       "</table>\n",
       "</div>"
      ],
      "text/plain": [
       "Carrera  Lic. En Derecho  Lic. En Nutriología  Lic. En Pedagogía\n",
       "Año                                                             \n",
       "2015                   4                    6                  3\n",
       "2016                   3                    4                  1\n",
       "2017                   4                    6                  3\n",
       "2018                   6                    3                  6"
      ]
     },
     "execution_count": 119,
     "metadata": {},
     "output_type": "execute_result"
    }
   ],
   "source": [
    " ingresos"
   ]
  },
  {
   "cell_type": "code",
   "execution_count": 122,
   "id": "6e080167-b2ca-4232-900b-1ec5ba0c363d",
   "metadata": {},
   "outputs": [
    {
     "data": {
      "image/png": "[encoded data removed]",
      "text/plain": [
       "<Figure size 640x480 with 1 Axes>"
      ]
     },
     "metadata": {},
     "output_type": "display_data"
    }
   ],
   "source": [
    "ingresos.plot()\n",
    "plt.title(\"Ingresos en cada carrera por año\")\n",
    "plt.show()"
   ]
  },
  {
   "cell_type": "code",
   "execution_count": null,
   "id": "b8835382-07ae-421c-8da9-09cfc85e1493",
   "metadata": {},
   "outputs": [],
   "source": []
  }
 ],
 "metadata": {
  "kernelspec": {
   "display_name": "Python 3 (ipykernel)",
   "language": "python",
   "name": "python3"
  },
  "language_info": {
   "codemirror_mode": {
    "name": "ipython",
    "version": 3
   },
   "file_extension": ".py",
   "mimetype": "text/x-python",
   "name": "python",
   "nbconvert_exporter": "python",
   "pygments_lexer": "ipython3",
   "version": "3.10.9"
  }
 },
 "nbformat": 4,
 "nbformat_minor": 5
}
